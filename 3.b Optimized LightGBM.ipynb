{
 "cells": [
  {
   "cell_type": "code",
   "execution_count": 1,
   "id": "48fd3332",
   "metadata": {
    "_cell_guid": "b1076dfc-b9ad-4769-8c92-a6c4dae69d19",
    "_uuid": "8f2839f25d086af736a60e9eeb907d3b93b6e0e5",
    "execution": {
     "iopub.execute_input": "2021-09-10T18:41:50.450571Z",
     "iopub.status.busy": "2021-09-10T18:41:50.449945Z",
     "iopub.status.idle": "2021-09-10T18:41:52.747564Z",
     "shell.execute_reply": "2021-09-10T18:41:52.746839Z",
     "shell.execute_reply.started": "2021-09-10T18:39:38.295016Z"
    },
    "papermill": {
     "duration": 2.316449,
     "end_time": "2021-09-10T18:41:52.747721",
     "exception": false,
     "start_time": "2021-09-10T18:41:50.431272",
     "status": "completed"
    },
    "tags": []
   },
   "outputs": [
    {
     "data": {
      "text/html": [
       "<style type='text/css'>\n",
       ".datatable table.frame { margin-bottom: 0; }\n",
       ".datatable table.frame thead { border-bottom: none; }\n",
       ".datatable table.frame tr.coltypes td {  color: #FFFFFF;  line-height: 6px;  padding: 0 0.5em;}\n",
       ".datatable .bool    { background: #DDDD99; }\n",
       ".datatable .object  { background: #565656; }\n",
       ".datatable .int     { background: #5D9E5D; }\n",
       ".datatable .float   { background: #4040CC; }\n",
       ".datatable .str     { background: #CC4040; }\n",
       ".datatable .time    { background: #40CC40; }\n",
       ".datatable .row_index {  background: var(--jp-border-color3);  border-right: 1px solid var(--jp-border-color0);  color: var(--jp-ui-font-color3);  font-size: 9px;}\n",
       ".datatable .frame tbody td { text-align: left; }\n",
       ".datatable .frame tr.coltypes .row_index {  background: var(--jp-border-color0);}\n",
       ".datatable th:nth-child(2) { padding-left: 12px; }\n",
       ".datatable .hellipsis {  color: var(--jp-cell-editor-border-color);}\n",
       ".datatable .vellipsis {  background: var(--jp-layout-color0);  color: var(--jp-cell-editor-border-color);}\n",
       ".datatable .na {  color: var(--jp-cell-editor-border-color);  font-size: 80%;}\n",
       ".datatable .sp {  opacity: 0.25;}\n",
       ".datatable .footer { font-size: 9px; }\n",
       ".datatable .frame_dimensions {  background: var(--jp-border-color3);  border-top: 1px solid var(--jp-border-color0);  color: var(--jp-ui-font-color3);  display: inline-block;  opacity: 0.6;  padding: 1px 10px 1px 5px;}\n",
       "</style>\n"
      ],
      "text/plain": [
       "<IPython.core.display.HTML object>"
      ]
     },
     "metadata": {},
     "output_type": "display_data"
    }
   ],
   "source": [
    "import pandas as pd\n",
    "import numpy as np\n",
    "import random\n",
    "import time\n",
    "import os\n",
    "import gc\n",
    "\n",
    "from sklearn.model_selection import StratifiedKFold\n",
    "from sklearn.preprocessing import StandardScaler\n",
    "from sklearn.metrics import roc_auc_score\n",
    "\n",
    "import lightgbm as lgb\n",
    "\n",
    "import matplotlib.pyplot as plt\n",
    "import seaborn as sns\n",
    "\n",
    "import warnings\n",
    "warnings.simplefilter('ignore')"
   ]
  },
  {
   "cell_type": "code",
   "execution_count": 2,
   "id": "b5e1eb48",
   "metadata": {
    "execution": {
     "iopub.execute_input": "2021-09-10T18:41:52.768126Z",
     "iopub.status.busy": "2021-09-10T18:41:52.767506Z",
     "iopub.status.idle": "2021-09-10T18:42:39.615152Z",
     "shell.execute_reply": "2021-09-10T18:42:39.614118Z",
     "shell.execute_reply.started": "2021-09-10T18:39:40.507670Z"
    },
    "papermill": {
     "duration": 46.8602,
     "end_time": "2021-09-10T18:42:39.615516",
     "exception": false,
     "start_time": "2021-09-10T18:41:52.755316",
     "status": "completed"
    },
    "tags": []
   },
   "outputs": [],
   "source": [
    "df = pd.read_csv('../input/september-folds/train_folds.csv')\n",
    "df_test = pd.read_csv('../input/tabular-playground-series-sep-2021/test.csv')\n",
    "sample_solution = pd.read_csv('../input/tabular-playground-series-sep-2021/sample_solution.csv')\n",
    "\n",
    "useful_features = [c for c in df.columns if c not in (\"id\", \"claim\", \"KFold\")]\n",
    "numerical_cols = [col for col in useful_features if col.startswith(\"f\")]\n",
    "df_test = df_test[useful_features]"
   ]
  },
  {
   "cell_type": "code",
   "execution_count": 3,
   "id": "0ed7b53d",
   "metadata": {
    "execution": {
     "iopub.execute_input": "2021-09-10T18:42:39.636471Z",
     "iopub.status.busy": "2021-09-10T18:42:39.635763Z",
     "iopub.status.idle": "2021-09-10T18:42:39.639413Z",
     "shell.execute_reply": "2021-09-10T18:42:39.640027Z",
     "shell.execute_reply.started": "2021-09-10T18:40:01.560928Z"
    },
    "papermill": {
     "duration": 0.015159,
     "end_time": "2021-09-10T18:42:39.640194",
     "exception": false,
     "start_time": "2021-09-10T18:42:39.625035",
     "status": "completed"
    },
    "tags": []
   },
   "outputs": [],
   "source": [
    "lgb_params = {\n",
    "    'learning_rate': 0.015332061170550073,\n",
    "    'reg_lambda': 1.103077586535056,\n",
    "    'reg_alpha': 32.904819081261586,\n",
    "    'subsample': 0.6863733858469923,\n",
    "    'colsample_bytree': 0.8915690246247586,\n",
    "    'max_depth': 5\n",
    "}"
   ]
  },
  {
   "cell_type": "code",
   "execution_count": 4,
   "id": "b4cf41ff",
   "metadata": {
    "execution": {
     "iopub.execute_input": "2021-09-10T18:42:39.665579Z",
     "iopub.status.busy": "2021-09-10T18:42:39.664894Z",
     "iopub.status.idle": "2021-09-10T19:37:19.895784Z",
     "shell.execute_reply": "2021-09-10T19:37:19.896360Z",
     "shell.execute_reply.started": "2021-09-10T18:40:04.417820Z"
    },
    "papermill": {
     "duration": 3280.249343,
     "end_time": "2021-09-10T19:37:19.896654",
     "exception": false,
     "start_time": "2021-09-10T18:42:39.647311",
     "status": "completed"
    },
    "tags": []
   },
   "outputs": [
    {
     "name": "stdout",
     "output_type": "stream",
     "text": [
      "0\n",
      "0 0.8016263309828153\n",
      "1\n",
      "1 0.8035430062833645\n",
      "2\n",
      "2 0.8021433388772523\n",
      "3\n",
      "3 0.80385576316306\n",
      "4\n",
      "4 0.7956252180508973\n"
     ]
    }
   ],
   "source": [
    "lgb_pred = np.zeros(df_test.shape[0])\n",
    "lgb_importances = pd.DataFrame()\n",
    "\n",
    "for fold in range(5):\n",
    "    print(fold)\n",
    "    xtrain =  df[df.KFold != fold].reset_index(drop = True)\n",
    "    xvalid = df[df.KFold == fold].reset_index(drop = True)\n",
    "    xtest = df_test.copy()\n",
    "\n",
    "    ytrain = xtrain.claim\n",
    "    yvalid = xvalid.claim\n",
    "    \n",
    "    xtrain = xtrain[useful_features]\n",
    "    xvalid = xvalid[useful_features]\n",
    "    \n",
    "    model = lgb.LGBMClassifier(\n",
    "        n_estimators = 7500,\n",
    "        objective = 'binary',\n",
    "        **lgb_params\n",
    "    )\n",
    "    \n",
    "    model.fit(\n",
    "        xtrain, \n",
    "        ytrain,\n",
    "        eval_set = [(xvalid, yvalid)],\n",
    "        eval_metric = 'auc',\n",
    "        early_stopping_rounds = 300,\n",
    "        verbose = False,\n",
    "    )\n",
    "    \n",
    "    # This block is only for finding the importances of each feature\n",
    "    res = pd.DataFrame()\n",
    "    res['feature'] = model.feature_name_\n",
    "    res['importance'] = model.feature_importances_\n",
    "    res['fold'] = fold\n",
    "    res['seed'] = 42\n",
    "    lgb_importances = lgb_importances.append(res)\n",
    "    \n",
    "    valid_preds = model.predict_proba(xvalid)[:, -1]\n",
    "    lgb_pred += model.predict_proba(xtest)[:, -1] / 5\n",
    "    auc = roc_auc_score(yvalid, valid_preds)\n",
    "    print(fold, auc)"
   ]
  },
  {
   "cell_type": "code",
   "execution_count": 5,
   "id": "fa2e9eae",
   "metadata": {
    "execution": {
     "iopub.execute_input": "2021-09-10T19:37:19.923475Z",
     "iopub.status.busy": "2021-09-10T19:37:19.922607Z",
     "iopub.status.idle": "2021-09-10T19:37:22.500303Z",
     "shell.execute_reply": "2021-09-10T19:37:22.501242Z",
     "shell.execute_reply.started": "2021-09-10T18:40:49.589178Z"
    },
    "papermill": {
     "duration": 2.596231,
     "end_time": "2021-09-10T19:37:22.501507",
     "exception": false,
     "start_time": "2021-09-10T19:37:19.905276",
     "status": "completed"
    },
    "tags": []
   },
   "outputs": [
    {
     "name": "stdout",
     "output_type": "stream",
     "text": [
      "['f40', 'f47', 'f70', 'f35', 'f34', 'f77', 'f3', 'f57', 'f21', 'f5', 'f96', 'f45', 'f8', 'f65', 'f106', 'f1', 'f95', 'f31', 'f27', 'f7', 'f16', 'f62', 'f13', 'f107', 'f28', 'f52', 'f42', 'f92', 'f46', 'f36', 'f9', 'f75', 'f6', 'f24', 'f15', 'f109', 'f78', 'f2', 'f99', 'f71', 'f48', 'f25', 'f30', 'f69', 'f61', 'f11', 'f50', 'f79', 'f53', 'f86', 'f97', 'f38', 'f32', 'f60', 'f114', 'f110', 'f108', 'f103', 'f12', 'f81', 'f102', 'f104', 'f111', 'f54', 'f39', 'f49', 'f44', 'f10', 'f113', 'f73', 'f17', 'f43', 'f84', 'f112', 'f55', 'f90', 'f33', 'f37', 'f87', 'f91', 'f68', 'f83', 'f105', 'f115', 'f41', 'f18', 'f118', 'f29', 'f98', 'f64', 'f94', 'f19', 'f80', 'f116', 'f23', 'f4', 'f59', 'f14', 'f56', 'f51', 'f22', 'f93', 'f66', 'f88', 'f82', 'f117', 'f100', 'f63', 'f58', 'f72', 'f20', 'f101', 'f89', 'f76', 'f74', 'f67', 'f26', 'f85']\n"
     ]
    },
    {
     "data": {
      "text/plain": [
       "Text(0.5, 1.0, 'LightGBM feature importances')"
      ]
     },
     "execution_count": 5,
     "metadata": {},
     "output_type": "execute_result"
    },
    {
     "data": {
      "image/png": "[encoded data removed]",
      "text/plain": [
       "<Figure size 1152x1152 with 1 Axes>"
      ]
     },
     "metadata": {
      "needs_background": "light"
     },
     "output_type": "display_data"
    }
   ],
   "source": [
    "order = list(lgb_importances.groupby('feature').mean().sort_values('importance', ascending = False).index)\n",
    "\n",
    "print(order)\n",
    "\n",
    "fig = plt.figure(figsize=(16, 16), tight_layout=True)\n",
    "sns.barplot(x = \"importance\", y = \"feature\", \n",
    "            data = lgb_importances.groupby('feature').mean().reset_index(), \n",
    "            order = order)\n",
    "plt.title(\"LightGBM feature importances\")"
   ]
  },
  {
   "cell_type": "code",
   "execution_count": 6,
   "id": "893f961e",
   "metadata": {
    "execution": {
     "iopub.execute_input": "2021-09-10T19:37:22.534804Z",
     "iopub.status.busy": "2021-09-10T19:37:22.534079Z",
     "iopub.status.idle": "2021-09-10T19:37:24.500893Z",
     "shell.execute_reply": "2021-09-10T19:37:24.500319Z"
    },
    "papermill": {
     "duration": 1.984856,
     "end_time": "2021-09-10T19:37:24.501059",
     "exception": false,
     "start_time": "2021-09-10T19:37:22.516203",
     "status": "completed"
    },
    "tags": []
   },
   "outputs": [
    {
     "data": {
      "text/html": [
       "<div>\n",
       "<style scoped>\n",
       "    .dataframe tbody tr th:only-of-type {\n",
       "        vertical-align: middle;\n",
       "    }\n",
       "\n",
       "    .dataframe tbody tr th {\n",
       "        vertical-align: top;\n",
       "    }\n",
       "\n",
       "    .dataframe thead th {\n",
       "        text-align: right;\n",
       "    }\n",
       "</style>\n",
       "<table border=\"1\" class=\"dataframe\">\n",
       "  <thead>\n",
       "    <tr style=\"text-align: right;\">\n",
       "      <th></th>\n",
       "      <th>id</th>\n",
       "      <th>claim</th>\n",
       "    </tr>\n",
       "  </thead>\n",
       "  <tbody>\n",
       "    <tr>\n",
       "      <th>0</th>\n",
       "      <td>957919</td>\n",
       "      <td>0.411118</td>\n",
       "    </tr>\n",
       "    <tr>\n",
       "      <th>1</th>\n",
       "      <td>957920</td>\n",
       "      <td>0.267758</td>\n",
       "    </tr>\n",
       "    <tr>\n",
       "      <th>2</th>\n",
       "      <td>957921</td>\n",
       "      <td>0.447738</td>\n",
       "    </tr>\n",
       "    <tr>\n",
       "      <th>3</th>\n",
       "      <td>957922</td>\n",
       "      <td>0.295510</td>\n",
       "    </tr>\n",
       "    <tr>\n",
       "      <th>4</th>\n",
       "      <td>957923</td>\n",
       "      <td>0.330348</td>\n",
       "    </tr>\n",
       "    <tr>\n",
       "      <th>...</th>\n",
       "      <td>...</td>\n",
       "      <td>...</td>\n",
       "    </tr>\n",
       "    <tr>\n",
       "      <th>493469</th>\n",
       "      <td>1451388</td>\n",
       "      <td>0.580654</td>\n",
       "    </tr>\n",
       "    <tr>\n",
       "      <th>493470</th>\n",
       "      <td>1451389</td>\n",
       "      <td>0.289240</td>\n",
       "    </tr>\n",
       "    <tr>\n",
       "      <th>493471</th>\n",
       "      <td>1451390</td>\n",
       "      <td>0.821463</td>\n",
       "    </tr>\n",
       "    <tr>\n",
       "      <th>493472</th>\n",
       "      <td>1451391</td>\n",
       "      <td>0.320835</td>\n",
       "    </tr>\n",
       "    <tr>\n",
       "      <th>493473</th>\n",
       "      <td>1451392</td>\n",
       "      <td>0.842656</td>\n",
       "    </tr>\n",
       "  </tbody>\n",
       "</table>\n",
       "<p>493474 rows × 2 columns</p>\n",
       "</div>"
      ],
      "text/plain": [
       "             id     claim\n",
       "0        957919  0.411118\n",
       "1        957920  0.267758\n",
       "2        957921  0.447738\n",
       "3        957922  0.295510\n",
       "4        957923  0.330348\n",
       "...         ...       ...\n",
       "493469  1451388  0.580654\n",
       "493470  1451389  0.289240\n",
       "493471  1451390  0.821463\n",
       "493472  1451391  0.320835\n",
       "493473  1451392  0.842656\n",
       "\n",
       "[493474 rows x 2 columns]"
      ]
     },
     "execution_count": 6,
     "metadata": {},
     "output_type": "execute_result"
    }
   ],
   "source": [
    "sample_solution['claim'] = lgb_pred\n",
    "sample_solution.to_csv(\"submission.csv\", index = False)\n",
    "sample_solution"
   ]
  }
 ],
 "metadata": {
  "kernelspec": {
   "display_name": "Python 3",
   "language": "python",
   "name": "python3"
  },
  "language_info": {
   "codemirror_mode": {
    "name": "ipython",
    "version": 3
   },
   "file_extension": ".py",
   "mimetype": "text/x-python",
   "name": "python",
   "nbconvert_exporter": "python",
   "pygments_lexer": "ipython3",
   "version": "3.7.10"
  },
  "papermill": {
   "default_parameters": {},
   "duration": 3343.710136,
   "end_time": "2021-09-10T19:37:25.867018",
   "environment_variables": {},
   "exception": null,
   "input_path": "__notebook__.ipynb",
   "output_path": "__notebook__.ipynb",
   "parameters": {},
   "start_time": "2021-09-10T18:41:42.156882",
   "version": "2.3.3"
  }
 },
 "nbformat": 4,
 "nbformat_minor": 5
}
