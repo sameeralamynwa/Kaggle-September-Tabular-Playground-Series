{
 "cells": [
  {
   "cell_type": "code",
   "execution_count": 1,
   "id": "324d3ccf",
   "metadata": {
    "_cell_guid": "b1076dfc-b9ad-4769-8c92-a6c4dae69d19",
    "_uuid": "8f2839f25d086af736a60e9eeb907d3b93b6e0e5",
    "execution": {
     "iopub.execute_input": "2021-09-10T11:12:53.873966Z",
     "iopub.status.busy": "2021-09-10T11:12:53.872192Z",
     "iopub.status.idle": "2021-09-10T11:12:57.094193Z",
     "shell.execute_reply": "2021-09-10T11:12:57.094956Z",
     "shell.execute_reply.started": "2021-09-10T08:54:58.16279Z"
    },
    "papermill": {
     "duration": 3.235179,
     "end_time": "2021-09-10T11:12:57.095287",
     "exception": false,
     "start_time": "2021-09-10T11:12:53.860108",
     "status": "completed"
    },
    "tags": []
   },
   "outputs": [
    {
     "data": {
      "text/html": [
       "<style type='text/css'>\n",
       ".datatable table.frame { margin-bottom: 0; }\n",
       ".datatable table.frame thead { border-bottom: none; }\n",
       ".datatable table.frame tr.coltypes td {  color: #FFFFFF;  line-height: 6px;  padding: 0 0.5em;}\n",
       ".datatable .bool    { background: #DDDD99; }\n",
       ".datatable .object  { background: #565656; }\n",
       ".datatable .int     { background: #5D9E5D; }\n",
       ".datatable .float   { background: #4040CC; }\n",
       ".datatable .str     { background: #CC4040; }\n",
       ".datatable .time    { background: #40CC40; }\n",
       ".datatable .row_index {  background: var(--jp-border-color3);  border-right: 1px solid var(--jp-border-color0);  color: var(--jp-ui-font-color3);  font-size: 9px;}\n",
       ".datatable .frame tbody td { text-align: left; }\n",
       ".datatable .frame tr.coltypes .row_index {  background: var(--jp-border-color0);}\n",
       ".datatable th:nth-child(2) { padding-left: 12px; }\n",
       ".datatable .hellipsis {  color: var(--jp-cell-editor-border-color);}\n",
       ".datatable .vellipsis {  background: var(--jp-layout-color0);  color: var(--jp-cell-editor-border-color);}\n",
       ".datatable .na {  color: var(--jp-cell-editor-border-color);  font-size: 80%;}\n",
       ".datatable .sp {  opacity: 0.25;}\n",
       ".datatable .footer { font-size: 9px; }\n",
       ".datatable .frame_dimensions {  background: var(--jp-border-color3);  border-top: 1px solid var(--jp-border-color0);  color: var(--jp-ui-font-color3);  display: inline-block;  opacity: 0.6;  padding: 1px 10px 1px 5px;}\n",
       "</style>\n"
      ],
      "text/plain": [
       "<IPython.core.display.HTML object>"
      ]
     },
     "metadata": {},
     "output_type": "display_data"
    }
   ],
   "source": [
    "import pandas as pd\n",
    "import numpy as np\n",
    "import random\n",
    "import time\n",
    "import os\n",
    "import gc\n",
    "\n",
    "from sklearn.model_selection import StratifiedKFold\n",
    "from sklearn.preprocessing import StandardScaler\n",
    "from sklearn.metrics import roc_auc_score\n",
    "\n",
    "import lightgbm as lgb\n",
    "\n",
    "import matplotlib.pyplot as plt\n",
    "import seaborn as sns\n",
    "\n",
    "import warnings\n",
    "warnings.simplefilter('ignore')\n",
    "\n",
    "import optuna"
   ]
  },
  {
   "cell_type": "code",
   "execution_count": 2,
   "id": "0d034815",
   "metadata": {
    "execution": {
     "iopub.execute_input": "2021-09-10T11:12:57.112811Z",
     "iopub.status.busy": "2021-09-10T11:12:57.111849Z",
     "iopub.status.idle": "2021-09-10T11:13:48.004892Z",
     "shell.execute_reply": "2021-09-10T11:13:48.005641Z",
     "shell.execute_reply.started": "2021-09-10T08:52:40.679673Z"
    },
    "papermill": {
     "duration": 50.903038,
     "end_time": "2021-09-10T11:13:48.005885",
     "exception": false,
     "start_time": "2021-09-10T11:12:57.102847",
     "status": "completed"
    },
    "tags": []
   },
   "outputs": [],
   "source": [
    "df = pd.read_csv('../input/september-folds/train_folds.csv')\n",
    "df_test = pd.read_csv('../input/tabular-playground-series-sep-2021/test.csv')\n",
    "sample_solution = pd.read_csv('../input/tabular-playground-series-sep-2021/sample_solution.csv')\n",
    "\n",
    "useful_features = [c for c in df.columns if c not in (\"id\", \"claim\", \"KFold\")]\n",
    "numerical_cols = [col for col in useful_features if col.startswith(\"f\")]\n",
    "df_test = df_test[useful_features]"
   ]
  },
  {
   "cell_type": "code",
   "execution_count": 3,
   "id": "d22c745c",
   "metadata": {
    "execution": {
     "iopub.execute_input": "2021-09-10T11:13:48.022686Z",
     "iopub.status.busy": "2021-09-10T11:13:48.021990Z",
     "iopub.status.idle": "2021-09-10T11:13:48.032517Z",
     "shell.execute_reply": "2021-09-10T11:13:48.033016Z",
     "shell.execute_reply.started": "2021-09-10T08:57:11.902395Z"
    },
    "papermill": {
     "duration": 0.020367,
     "end_time": "2021-09-10T11:13:48.033235",
     "exception": false,
     "start_time": "2021-09-10T11:13:48.012868",
     "status": "completed"
    },
    "tags": []
   },
   "outputs": [],
   "source": [
    "def run(trial):\n",
    "    fold = 0\n",
    "    learning_rate = trial.suggest_float(\"learning_rate\", 1e-2, 0.25, log = True)\n",
    "    reg_lambda = trial.suggest_loguniform(\"reg_lambda\", 1e-8, 100.0)\n",
    "    reg_alpha = trial.suggest_loguniform(\"reg_alpha\", 1e-8, 100.0)\n",
    "    subsample = trial.suggest_float(\"subsample\", 0.1, 1.0)\n",
    "    colsample_bytree = trial.suggest_float(\"colsample_bytree\", 0.1, 1.0)\n",
    "    max_depth = trial.suggest_int(\"max_depth\", 1, 7)\n",
    "    \n",
    "    xtrain =  df[df.KFold != fold].reset_index(drop = True)\n",
    "    xvalid = df[df.KFold == fold].reset_index(drop = True)\n",
    "    xtest = df_test.copy()\n",
    "\n",
    "    ytrain = xtrain.claim\n",
    "    yvalid = xvalid.claim\n",
    "    \n",
    "    xtrain = xtrain[useful_features]\n",
    "    xvalid = xvalid[useful_features]\n",
    "    \n",
    "    model = lgb.LGBMClassifier(\n",
    "        objective = 'binary',\n",
    "        random_state = 42,\n",
    "        n_estimators = 7000,\n",
    "        learning_rate = learning_rate,\n",
    "        reg_lambda = reg_lambda,\n",
    "        reg_alpha = reg_alpha,\n",
    "        subsample = subsample,\n",
    "        colsample_bytree = colsample_bytree,\n",
    "        max_depth = max_depth,\n",
    "    )\n",
    "    \n",
    "    model.fit(\n",
    "        xtrain, \n",
    "        ytrain,\n",
    "        eval_set = [(xvalid, yvalid)],\n",
    "        eval_metric = 'auc',\n",
    "        early_stopping_rounds = 300,\n",
    "        verbose = False,\n",
    "    )\n",
    "    \n",
    "    valid_preds = model.predict_proba(xvalid)[:, -1]\n",
    "    auc = roc_auc_score(yvalid, valid_preds)\n",
    "    print(fold, auc)\n",
    "    return auc"
   ]
  },
  {
   "cell_type": "code",
   "execution_count": 4,
   "id": "963885df",
   "metadata": {
    "execution": {
     "iopub.execute_input": "2021-09-10T11:13:48.049195Z",
     "iopub.status.busy": "2021-09-10T11:13:48.048582Z",
     "iopub.status.idle": "2021-09-10T11:39:02.468128Z",
     "shell.execute_reply": "2021-09-10T11:39:02.467377Z",
     "shell.execute_reply.started": "2021-09-10T08:55:02.570405Z"
    },
    "papermill": {
     "duration": 1514.428626,
     "end_time": "2021-09-10T11:39:02.468357",
     "exception": false,
     "start_time": "2021-09-10T11:13:48.039731",
     "status": "completed"
    },
    "tags": []
   },
   "outputs": [
    {
     "name": "stderr",
     "output_type": "stream",
     "text": [
      "\u001b[32m[I 2021-09-10 11:13:48,049]\u001b[0m A new study created in memory with name: no-name-fffc4cc5-c555-4258-900a-2cb58dd6f99e\u001b[0m\n",
      "\u001b[32m[I 2021-09-10 11:18:57,280]\u001b[0m Trial 0 finished with value: 0.8015591877234297 and parameters: {'learning_rate': 0.030934323080696102, 'reg_lambda': 0.574865474998729, 'reg_alpha': 4.74318539421638e-06, 'subsample': 0.30429690832467116, 'colsample_bytree': 0.45005565684548254, 'max_depth': 3}. Best is trial 0 with value: 0.8015591877234297.\u001b[0m\n"
     ]
    },
    {
     "name": "stdout",
     "output_type": "stream",
     "text": [
      "0 0.8015591877234297\n"
     ]
    },
    {
     "name": "stderr",
     "output_type": "stream",
     "text": [
      "\u001b[32m[I 2021-09-10 11:21:08,064]\u001b[0m Trial 1 finished with value: 0.8012812082760264 and parameters: {'learning_rate': 0.11889277467068529, 'reg_lambda': 72.41996373119524, 'reg_alpha': 0.24638657065332062, 'subsample': 0.7794082424481142, 'colsample_bytree': 0.695989459844451, 'max_depth': 4}. Best is trial 0 with value: 0.8015591877234297.\u001b[0m\n"
     ]
    },
    {
     "name": "stdout",
     "output_type": "stream",
     "text": [
      "0 0.8012812082760264\n"
     ]
    },
    {
     "name": "stderr",
     "output_type": "stream",
     "text": [
      "\u001b[32m[I 2021-09-10 11:34:57,967]\u001b[0m Trial 2 finished with value: 0.8016746024641792 and parameters: {'learning_rate': 0.015332061170550073, 'reg_lambda': 1.103077586535056, 'reg_alpha': 32.904819081261586, 'subsample': 0.6863733858469923, 'colsample_bytree': 0.8915690246247586, 'max_depth': 5}. Best is trial 2 with value: 0.8016746024641792.\u001b[0m\n"
     ]
    },
    {
     "name": "stdout",
     "output_type": "stream",
     "text": [
      "0 0.8016746024641792\n"
     ]
    },
    {
     "name": "stderr",
     "output_type": "stream",
     "text": [
      "\u001b[32m[I 2021-09-10 11:36:19,448]\u001b[0m Trial 3 finished with value: 0.8011219644146832 and parameters: {'learning_rate': 0.16310374825068039, 'reg_lambda': 0.005253029732602893, 'reg_alpha': 0.31191168610956116, 'subsample': 0.10467920378910557, 'colsample_bytree': 0.5620809962039652, 'max_depth': 7}. Best is trial 2 with value: 0.8016746024641792.\u001b[0m\n"
     ]
    },
    {
     "name": "stdout",
     "output_type": "stream",
     "text": [
      "0 0.8011219644146832\n"
     ]
    },
    {
     "name": "stderr",
     "output_type": "stream",
     "text": [
      "\u001b[32m[I 2021-09-10 11:39:02,450]\u001b[0m Trial 4 finished with value: 0.8012962509249845 and parameters: {'learning_rate': 0.09200337822082338, 'reg_lambda': 1.6795461594456134, 'reg_alpha': 2.157156627633875e-06, 'subsample': 0.3326134746985864, 'colsample_bytree': 0.8077683311522, 'max_depth': 5}. Best is trial 2 with value: 0.8016746024641792.\u001b[0m\n"
     ]
    },
    {
     "name": "stdout",
     "output_type": "stream",
     "text": [
      "0 0.8012962509249845\n"
     ]
    }
   ],
   "source": [
    "study = optuna.create_study(direction = \"maximize\")\n",
    "study.optimize(run, n_trials = 5)"
   ]
  },
  {
   "cell_type": "code",
   "execution_count": 5,
   "id": "2c926465",
   "metadata": {
    "execution": {
     "iopub.execute_input": "2021-09-10T11:39:02.495773Z",
     "iopub.status.busy": "2021-09-10T11:39:02.494417Z",
     "iopub.status.idle": "2021-09-10T11:39:02.500055Z",
     "shell.execute_reply": "2021-09-10T11:39:02.500575Z",
     "shell.execute_reply.started": "2021-09-10T08:55:58.137155Z"
    },
    "papermill": {
     "duration": 0.022236,
     "end_time": "2021-09-10T11:39:02.500793",
     "exception": false,
     "start_time": "2021-09-10T11:39:02.478557",
     "status": "completed"
    },
    "tags": []
   },
   "outputs": [
    {
     "data": {
      "text/plain": [
       "{'learning_rate': 0.015332061170550073,\n",
       " 'reg_lambda': 1.103077586535056,\n",
       " 'reg_alpha': 32.904819081261586,\n",
       " 'subsample': 0.6863733858469923,\n",
       " 'colsample_bytree': 0.8915690246247586,\n",
       " 'max_depth': 5}"
      ]
     },
     "execution_count": 5,
     "metadata": {},
     "output_type": "execute_result"
    }
   ],
   "source": [
    "study.best_params"
   ]
  }
 ],
 "metadata": {
  "kernelspec": {
   "display_name": "Python 3",
   "language": "python",
   "name": "python3"
  },
  "language_info": {
   "codemirror_mode": {
    "name": "ipython",
    "version": 3
   },
   "file_extension": ".py",
   "mimetype": "text/x-python",
   "name": "python",
   "nbconvert_exporter": "python",
   "pygments_lexer": "ipython3",
   "version": "3.7.10"
  },
  "papermill": {
   "default_parameters": {},
   "duration": 1578.323161,
   "end_time": "2021-09-10T11:39:03.932955",
   "environment_variables": {},
   "exception": null,
   "input_path": "__notebook__.ipynb",
   "output_path": "__notebook__.ipynb",
   "parameters": {},
   "start_time": "2021-09-10T11:12:45.609794",
   "version": "2.3.3"
  }
 },
 "nbformat": 4,
 "nbformat_minor": 5
}
