{
 "cells": [
  {
   "cell_type": "code",
   "execution_count": 1,
   "id": "046e2dec",
   "metadata": {
    "_cell_guid": "b1076dfc-b9ad-4769-8c92-a6c4dae69d19",
    "_uuid": "8f2839f25d086af736a60e9eeb907d3b93b6e0e5",
    "execution": {
     "iopub.execute_input": "2021-09-04T17:57:14.062233Z",
     "iopub.status.busy": "2021-09-04T17:57:14.060726Z",
     "iopub.status.idle": "2021-09-04T17:57:15.768408Z",
     "shell.execute_reply": "2021-09-04T17:57:15.767766Z",
     "shell.execute_reply.started": "2021-09-04T17:37:17.997728Z"
    },
    "papermill": {
     "duration": 1.72195,
     "end_time": "2021-09-04T17:57:15.768568",
     "exception": false,
     "start_time": "2021-09-04T17:57:14.046618",
     "status": "completed"
    },
    "tags": []
   },
   "outputs": [],
   "source": [
    "import pandas as pd\n",
    "import numpy as np\n",
    "from sklearn import preprocessing\n",
    "from sklearn.model_selection import train_test_split\n",
    "from sklearn.ensemble import RandomForestRegressor\n",
    "from sklearn.metrics import roc_auc_score\n",
    "from xgboost import XGBRegressor\n",
    "import optuna"
   ]
  },
  {
   "cell_type": "code",
   "execution_count": 2,
   "id": "4992c75d",
   "metadata": {
    "execution": {
     "iopub.execute_input": "2021-09-04T17:57:15.789227Z",
     "iopub.status.busy": "2021-09-04T17:57:15.788695Z",
     "iopub.status.idle": "2021-09-04T17:57:59.941680Z",
     "shell.execute_reply": "2021-09-04T17:57:59.941162Z",
     "shell.execute_reply.started": "2021-09-04T17:37:21.904994Z"
    },
    "papermill": {
     "duration": 44.165181,
     "end_time": "2021-09-04T17:57:59.941823",
     "exception": false,
     "start_time": "2021-09-04T17:57:15.776642",
     "status": "completed"
    },
    "tags": []
   },
   "outputs": [],
   "source": [
    "final_predictions = []\n",
    "\n",
    "df = pd.read_csv('../input/september-folds/train_folds.csv')\n",
    "df_test = pd.read_csv('../input/tabular-playground-series-sep-2021/test.csv')\n",
    "sample_solution = pd.read_csv('../input/tabular-playground-series-sep-2021/sample_solution.csv')\n",
    "\n",
    "useful_features = [c for c in df.columns if c not in (\"id\", \"claim\", \"KFold\")]\n",
    "numerical_cols = [col for col in useful_features if col.startswith(\"f\")]\n",
    "df_test = df_test[useful_features]"
   ]
  },
  {
   "cell_type": "code",
   "execution_count": 3,
   "id": "7764faa6",
   "metadata": {
    "execution": {
     "iopub.execute_input": "2021-09-04T17:57:59.965975Z",
     "iopub.status.busy": "2021-09-04T17:57:59.965183Z",
     "iopub.status.idle": "2021-09-04T17:57:59.968678Z",
     "shell.execute_reply": "2021-09-04T17:57:59.968244Z",
     "shell.execute_reply.started": "2021-09-04T17:42:04.188517Z"
    },
    "papermill": {
     "duration": 0.019419,
     "end_time": "2021-09-04T17:57:59.968810",
     "exception": false,
     "start_time": "2021-09-04T17:57:59.949391",
     "status": "completed"
    },
    "tags": []
   },
   "outputs": [],
   "source": [
    "def run(trial):\n",
    "    fold = 0\n",
    "    learning_rate = trial.suggest_float(\"learning_rate\", 1e-2, 0.25, log = True)\n",
    "    reg_lambda = trial.suggest_loguniform(\"reg_lambda\", 1e-8, 100.0)\n",
    "    reg_alpha = trial.suggest_loguniform(\"reg_alpha\", 1e-8, 100.0)\n",
    "    subsample = trial.suggest_float(\"subsample\", 0.1, 1.0)\n",
    "    colsample_bytree = trial.suggest_float(\"colsample_bytree\", 0.1, 1.0)\n",
    "    max_depth = trial.suggest_int(\"max_depth\", 1, 7)\n",
    "\n",
    "    xtrain = df[df.KFold != fold].reset_index(drop = True)\n",
    "    xvalid = df[df.KFold == fold].reset_index(drop = True)\n",
    "\n",
    "    ytrain = xtrain.claim\n",
    "    yvalid = xvalid.claim\n",
    "\n",
    "    xtrain = xtrain[useful_features]\n",
    "    xvalid = xvalid[useful_features]\n",
    "\n",
    "    model = XGBRegressor(\n",
    "        random_state = 42,\n",
    "        tree_method = \"gpu_hist\",\n",
    "        gpu_id = 1,\n",
    "        predictor = \"gpu_predictor\",\n",
    "        n_estimators = 7000,\n",
    "        learning_rate = learning_rate,\n",
    "        reg_lambda = reg_lambda,\n",
    "        reg_alpha = reg_alpha,\n",
    "        subsample = subsample,\n",
    "        colsample_bytree = colsample_bytree,\n",
    "        max_depth = max_depth,\n",
    "    )\n",
    "    model.fit(xtrain, ytrain, early_stopping_rounds = 300, eval_set = [(xvalid, yvalid)], verbose = False)\n",
    "    preds_valid = model.predict(xvalid)\n",
    "    roc = roc_auc_score(yvalid, preds_valid)\n",
    "    return roc"
   ]
  },
  {
   "cell_type": "code",
   "execution_count": 4,
   "id": "61085c54",
   "metadata": {
    "execution": {
     "iopub.execute_input": "2021-09-04T17:57:59.989806Z",
     "iopub.status.busy": "2021-09-04T17:57:59.986688Z",
     "iopub.status.idle": "2021-09-04T18:06:45.448591Z",
     "shell.execute_reply": "2021-09-04T18:06:45.449204Z",
     "shell.execute_reply.started": "2021-09-04T17:42:05.416609Z"
    },
    "papermill": {
     "duration": 525.473535,
     "end_time": "2021-09-04T18:06:45.449445",
     "exception": false,
     "start_time": "2021-09-04T17:57:59.975910",
     "status": "completed"
    },
    "tags": []
   },
   "outputs": [
    {
     "name": "stderr",
     "output_type": "stream",
     "text": [
      "\u001b[32m[I 2021-09-04 17:57:59,985]\u001b[0m A new study created in memory with name: no-name-ad2e045c-da89-4e8f-9c1d-964d1093ef11\u001b[0m\n"
     ]
    },
    {
     "name": "stdout",
     "output_type": "stream",
     "text": [
      "[17:58:03] WARNING: ../src/learner.cc:231: Only 1 GPUs are visible, setting `gpu_id` to 0\n"
     ]
    },
    {
     "name": "stderr",
     "output_type": "stream",
     "text": [
      "\u001b[32m[I 2021-09-04 18:00:09,918]\u001b[0m Trial 0 finished with value: 0.7980824475683297 and parameters: {'learning_rate': 0.04260605966751691, 'reg_lambda': 0.012100146976901016, 'reg_alpha': 6.952812689021962e-06, 'subsample': 0.5034591718148855, 'colsample_bytree': 0.7665198972844353, 'max_depth': 7}. Best is trial 0 with value: 0.7980824475683297.\u001b[0m\n"
     ]
    },
    {
     "name": "stdout",
     "output_type": "stream",
     "text": [
      "[18:00:12] WARNING: ../src/learner.cc:231: Only 1 GPUs are visible, setting `gpu_id` to 0\n"
     ]
    },
    {
     "name": "stderr",
     "output_type": "stream",
     "text": [
      "\u001b[32m[I 2021-09-04 18:02:40,398]\u001b[0m Trial 1 finished with value: 0.8021406524582633 and parameters: {'learning_rate': 0.02055173106562401, 'reg_lambda': 2.1090860046009154e-08, 'reg_alpha': 6.512677632385896e-08, 'subsample': 0.6008673924829881, 'colsample_bytree': 0.5189846067991032, 'max_depth': 5}. Best is trial 1 with value: 0.8021406524582633.\u001b[0m\n"
     ]
    },
    {
     "name": "stdout",
     "output_type": "stream",
     "text": [
      "[18:02:43] WARNING: ../src/learner.cc:231: Only 1 GPUs are visible, setting `gpu_id` to 0\n"
     ]
    },
    {
     "name": "stderr",
     "output_type": "stream",
     "text": [
      "\u001b[32m[I 2021-09-04 18:03:49,217]\u001b[0m Trial 2 finished with value: 0.7994892720492748 and parameters: {'learning_rate': 0.019269084521484254, 'reg_lambda': 0.009174716631164594, 'reg_alpha': 0.000186942282547991, 'subsample': 0.9341119550484657, 'colsample_bytree': 0.2593232743287781, 'max_depth': 1}. Best is trial 1 with value: 0.8021406524582633.\u001b[0m\n"
     ]
    },
    {
     "name": "stdout",
     "output_type": "stream",
     "text": [
      "[18:03:52] WARNING: ../src/learner.cc:231: Only 1 GPUs are visible, setting `gpu_id` to 0\n"
     ]
    },
    {
     "name": "stderr",
     "output_type": "stream",
     "text": [
      "\u001b[32m[I 2021-09-04 18:05:32,832]\u001b[0m Trial 3 finished with value: 0.8016166968042915 and parameters: {'learning_rate': 0.015482844591328693, 'reg_lambda': 1.770163475657427e-05, 'reg_alpha': 0.00016361159106420054, 'subsample': 0.8189437984090763, 'colsample_bytree': 0.1908331580062795, 'max_depth': 3}. Best is trial 1 with value: 0.8021406524582633.\u001b[0m\n"
     ]
    },
    {
     "name": "stdout",
     "output_type": "stream",
     "text": [
      "[18:05:35] WARNING: ../src/learner.cc:231: Only 1 GPUs are visible, setting `gpu_id` to 0\n"
     ]
    },
    {
     "name": "stderr",
     "output_type": "stream",
     "text": [
      "\u001b[32m[I 2021-09-04 18:06:45,432]\u001b[0m Trial 4 finished with value: 0.7942729041031333 and parameters: {'learning_rate': 0.2212929642070948, 'reg_lambda': 0.034878979265272954, 'reg_alpha': 3.7542706385172053, 'subsample': 0.626889675316616, 'colsample_bytree': 0.11602850972790407, 'max_depth': 3}. Best is trial 1 with value: 0.8021406524582633.\u001b[0m\n"
     ]
    }
   ],
   "source": [
    "study = optuna.create_study(direction = \"maximize\")\n",
    "study.optimize(run, n_trials = 5)"
   ]
  },
  {
   "cell_type": "code",
   "execution_count": 5,
   "id": "312cb014",
   "metadata": {
    "execution": {
     "iopub.execute_input": "2021-09-04T18:06:45.478072Z",
     "iopub.status.busy": "2021-09-04T18:06:45.477181Z",
     "iopub.status.idle": "2021-09-04T18:06:45.480946Z",
     "shell.execute_reply": "2021-09-04T18:06:45.481383Z",
     "shell.execute_reply.started": "2021-09-04T17:47:58.657769Z"
    },
    "papermill": {
     "duration": 0.021149,
     "end_time": "2021-09-04T18:06:45.481510",
     "exception": false,
     "start_time": "2021-09-04T18:06:45.460361",
     "status": "completed"
    },
    "tags": []
   },
   "outputs": [
    {
     "data": {
      "text/plain": [
       "{'learning_rate': 0.02055173106562401,\n",
       " 'reg_lambda': 2.1090860046009154e-08,\n",
       " 'reg_alpha': 6.512677632385896e-08,\n",
       " 'subsample': 0.6008673924829881,\n",
       " 'colsample_bytree': 0.5189846067991032,\n",
       " 'max_depth': 5}"
      ]
     },
     "execution_count": 5,
     "metadata": {},
     "output_type": "execute_result"
    }
   ],
   "source": [
    "study.best_params"
   ]
  },
  {
   "cell_type": "code",
   "execution_count": 6,
   "id": "a29d0292",
   "metadata": {
    "execution": {
     "iopub.execute_input": "2021-09-04T18:06:45.511602Z",
     "iopub.status.busy": "2021-09-04T18:06:45.510827Z",
     "iopub.status.idle": "2021-09-04T18:14:27.068883Z",
     "shell.execute_reply": "2021-09-04T18:14:27.069494Z",
     "shell.execute_reply.started": "2021-09-04T17:48:49.280059Z"
    },
    "papermill": {
     "duration": 461.577814,
     "end_time": "2021-09-04T18:14:27.069696",
     "exception": false,
     "start_time": "2021-09-04T18:06:45.491882",
     "status": "completed"
    },
    "tags": []
   },
   "outputs": [
    {
     "name": "stdout",
     "output_type": "stream",
     "text": [
      "0 0.8019486824357859\n",
      "1 0.8037325213032117\n",
      "2 0.8022124915050781\n",
      "3 0.8039685843831872\n",
      "4 0.803533339835929\n",
      "0.8030791238926384 0.0008310631559718997\n"
     ]
    }
   ],
   "source": [
    "scores = []\n",
    "\n",
    "for fold in range(5):\n",
    "    xtrain =  df[df.KFold != fold].reset_index(drop = True)\n",
    "    xvalid = df[df.KFold == fold].reset_index(drop = True)\n",
    "    xtest = df_test.copy()\n",
    "\n",
    "    ytrain = xtrain.claim\n",
    "    yvalid = xvalid.claim\n",
    "    \n",
    "    xtrain = xtrain[useful_features]\n",
    "    xvalid = xvalid[useful_features]\n",
    "    \n",
    "    params = {\n",
    "        'learning_rate': 0.020059359127029743,\n",
    "        'reg_lambda': 0.03503327716632611,\n",
    "        'reg_alpha': 5.402866067493725e-07,\n",
    "        'subsample': 0.818581067621836,\n",
    "        'colsample_bytree': 0.5749793197385817,\n",
    "        'max_depth': 4,\n",
    "    }\n",
    "    \n",
    "    model = XGBRegressor(\n",
    "        random_state = fold, \n",
    "        tree_method = 'gpu_hist', \n",
    "        gpu_id = 0, \n",
    "        predictor = \"gpu_predictor\",\n",
    "        n_estimators = 5000,\n",
    "        **params\n",
    "    )\n",
    "    \n",
    "    model.fit(xtrain, ytrain)\n",
    "    preds_valid = model.predict(xvalid)\n",
    "    test_preds = model.predict(xtest)\n",
    "    final_predictions.append(test_preds)\n",
    "    roc = roc_auc_score(yvalid, preds_valid)\n",
    "    print(fold, roc)\n",
    "    scores.append(roc)\n",
    "\n",
    "print(np.mean(scores), np.std(scores))"
   ]
  },
  {
   "cell_type": "code",
   "execution_count": 7,
   "id": "0d2341ca",
   "metadata": {
    "execution": {
     "iopub.execute_input": "2021-09-04T18:14:27.099601Z",
     "iopub.status.busy": "2021-09-04T18:14:27.098268Z",
     "iopub.status.idle": "2021-09-04T18:14:27.105460Z",
     "shell.execute_reply": "2021-09-04T18:14:27.105961Z",
     "shell.execute_reply.started": "2021-09-04T17:56:48.163639Z"
    },
    "papermill": {
     "duration": 0.023725,
     "end_time": "2021-09-04T18:14:27.106101",
     "exception": false,
     "start_time": "2021-09-04T18:14:27.082376",
     "status": "completed"
    },
    "tags": []
   },
   "outputs": [
    {
     "data": {
      "text/plain": [
       "(493474, 5)"
      ]
     },
     "execution_count": 7,
     "metadata": {},
     "output_type": "execute_result"
    }
   ],
   "source": [
    "np.column_stack(final_predictions).shape"
   ]
  },
  {
   "cell_type": "code",
   "execution_count": 8,
   "id": "a0d2adf2",
   "metadata": {
    "execution": {
     "iopub.execute_input": "2021-09-04T18:14:27.134701Z",
     "iopub.status.busy": "2021-09-04T18:14:27.133518Z",
     "iopub.status.idle": "2021-09-04T18:14:27.148756Z",
     "shell.execute_reply": "2021-09-04T18:14:27.149159Z",
     "shell.execute_reply.started": "2021-09-04T17:56:49.735205Z"
    },
    "papermill": {
     "duration": 0.031453,
     "end_time": "2021-09-04T18:14:27.149284",
     "exception": false,
     "start_time": "2021-09-04T18:14:27.117831",
     "status": "completed"
    },
    "tags": []
   },
   "outputs": [],
   "source": [
    "predictions_submit = np.mean(np.column_stack(final_predictions), axis = 1)"
   ]
  },
  {
   "cell_type": "code",
   "execution_count": 9,
   "id": "aa4b6618",
   "metadata": {
    "execution": {
     "iopub.execute_input": "2021-09-04T18:14:27.177947Z",
     "iopub.status.busy": "2021-09-04T18:14:27.177368Z",
     "iopub.status.idle": "2021-09-04T18:14:28.429290Z",
     "shell.execute_reply": "2021-09-04T18:14:28.428787Z",
     "shell.execute_reply.started": "2021-09-04T17:56:50.844655Z"
    },
    "papermill": {
     "duration": 1.267221,
     "end_time": "2021-09-04T18:14:28.429445",
     "exception": false,
     "start_time": "2021-09-04T18:14:27.162224",
     "status": "completed"
    },
    "tags": []
   },
   "outputs": [],
   "source": [
    "sample_solution.claim = predictions_submit\n",
    "sample_solution.to_csv(\"submission.csv\", index = False)"
   ]
  }
 ],
 "metadata": {
  "kernelspec": {
   "display_name": "Python 3",
   "language": "python",
   "name": "python3"
  },
  "language_info": {
   "codemirror_mode": {
    "name": "ipython",
    "version": 3
   },
   "file_extension": ".py",
   "mimetype": "text/x-python",
   "name": "python",
   "nbconvert_exporter": "python",
   "pygments_lexer": "ipython3",
   "version": "3.7.10"
  },
  "papermill": {
   "default_parameters": {},
   "duration": 1042.847229,
   "end_time": "2021-09-04T18:14:29.884735",
   "environment_variables": {},
   "exception": null,
   "input_path": "__notebook__.ipynb",
   "output_path": "__notebook__.ipynb",
   "parameters": {},
   "start_time": "2021-09-04T17:57:07.037506",
   "version": "2.3.3"
  }
 },
 "nbformat": 4,
 "nbformat_minor": 5
}
